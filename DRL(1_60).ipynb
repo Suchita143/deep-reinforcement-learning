{
  "nbformat": 4,
  "nbformat_minor": 0,
  "metadata": {
    "colab": {
      "provenance": [],
      "collapsed_sections": [
        "fwD4cyIlcHhf",
        "NHNDLMmwedet",
        "FhMvvR-be39W"
      ]
    },
    "kernelspec": {
      "name": "python3",
      "display_name": "Python 3"
    },
    "language_info": {
      "name": "python"
    }
  },
  "cells": [
    {
      "cell_type": "markdown",
      "source": [
        "# **Numpy practise assignment**\n",
        " **Basic Array Creation**\n",
        "1. Create an array with 10 equally spaced numbers between 0 and 1.\n",
        "2. Create a 1D array of 20 random integers between 1 and 100.\n",
        "3. Create a 2D array with the shape (4, 4) filled with the value 7.\n",
        "4. Create a 1D array of 10 elements with the same value, 3.14.\n",
        "5. Create a 2D array with the shape (3, 3) with values ranging from 1 to 9."
      ],
      "metadata": {
        "id": "g7iVdiA0mh8B"
      }
    },
    {
      "cell_type": "code",
      "source": [
        "#Create an array with 10 equally spaced numbers between 0 and 1.\n",
        "import numpy as np\n",
        "arr=np.linspace(0,1,10)\n",
        "print(\"Array with 10 eqallly spaced numbers between 0 and 1:\\n\",arr)\n",
        "\n",
        "#Create a 1D array of 20 random integers between 1 and 100.\n",
        "random_int_arr=np.random.randint(1,100,20)\n",
        "print(\"\\n1D array of 20 random integers between 1 and 100:\\n\",random_int_arr)\n",
        "\n",
        "#Create a 2D array with the shape (4, 4) filled with the value 7.\n",
        "arr=np.full((4,4),7)\n",
        "print(\"\\n2D array with the shape filled with the value 7:\\n\",arr)\n",
        "\n",
        "#Create a 1D array of 10 elements with the same value, 3.14.\n",
        "arr=np.full(10,3.14)\n",
        "print(\"\\n1D array of 10 elements with the same value, 3.14:\\n\",arr)\n",
        "\n",
        "#Create a 2D array with the shape (3, 3) with values ranging from 1 to 9.\n",
        "arr=np.arange(1,10).reshape(3,3)\n",
        "print(\"\\n2D array with the shape (3,3) with values ranging from 1 to 9:\\n\",arr)\n"
      ],
      "metadata": {
        "colab": {
          "base_uri": "https://localhost:8080/"
        },
        "collapsed": true,
        "id": "zZ0EOXTTCzFI",
        "outputId": "e23fdc3a-ff5b-49d1-d3e3-4ef3106ea68e"
      },
      "execution_count": null,
      "outputs": [
        {
          "output_type": "stream",
          "name": "stdout",
          "text": [
            "Array with 10 eqallly spaced numbers between 0 and 1:\n",
            " [0.         0.11111111 0.22222222 0.33333333 0.44444444 0.55555556\n",
            " 0.66666667 0.77777778 0.88888889 1.        ]\n",
            "\n",
            "1D array of 20 random integers between 1 and 100:\n",
            " [18 20 49 38 78 30 47 83 12 94 35 27 44 44  4 33  9  9 62 93]\n",
            "\n",
            "2D array with the shape filled with the value 7:\n",
            " [[7 7 7 7]\n",
            " [7 7 7 7]\n",
            " [7 7 7 7]\n",
            " [7 7 7 7]]\n",
            "\n",
            "1D array of 10 elements with the same value, 3.14:\n",
            " [3.14 3.14 3.14 3.14 3.14 3.14 3.14 3.14 3.14 3.14]\n",
            "\n",
            "2D array with the shape (3,3) with values ranging from 1 to 9:\n",
            " [[1 2 3]\n",
            " [4 5 6]\n",
            " [7 8 9]]\n"
          ]
        }
      ]
    },
    {
      "cell_type": "markdown",
      "source": [
        "Array Operations\n",
        "1. Create two arrays: a = [1, 3, 5, 7, 9] and b = [2, 4, 6, 8, 10]. Perform element-wise\n",
        "subtraction.\n",
        "2. Multiply array a by 3: a = [2, 4, 6, 8].\n",
        "3. Divide array a by 2: a = [10, 20, 30, 40].\n",
        "4. Find the element-wise modulus of two arrays: a = [5, 10, 15], b = [2, 3, 4].\n",
        "5. Create two arrays: a = [1, 2, 3], b = [4, 5, 6]. Compute the dot product."
      ],
      "metadata": {
        "id": "rvG6S7jbR7-E"
      }
    },
    {
      "cell_type": "code",
      "source": [
        "import numpy as np\n",
        "\n",
        "#Create two arrays: a = [1, 3, 5, 7, 9] and b = [2, 4, 6, 8, 10]. Perform element-wise subtraction.\n",
        "arr_a=np.array([1,3,5,7,9])\n",
        "arr_b=np.array([2,4,6,8,10])\n",
        "subtract_arr=np.subtract(arr_a,arr_b)\n",
        "print(\"different:\\n\",subtract_arr)\n",
        "\n",
        "diff_arr=arr_a - arr_b\n",
        "print(\"\\ndifferent array:\\n\",diff_arr)\n",
        "\n",
        "#Multiply array a by 3: a = [2, 4, 6, 8].\n",
        "arr=np.array([2,4,6,8])\n",
        "multi_arr=np.multiply(arr,3)\n",
        "print(\"\\nproduct:\\n\",multi_arr)\n",
        "\n",
        "multi_arr1=arr*3\n",
        "print(\"product array:\\n\",multi_arr1)\n",
        "\n",
        "#Divide array a by 2: a = [10, 20, 30, 40].\n",
        "arr=np.array([10,20,30,40])\n",
        "div_arr=np.divide(arr,2)\n",
        "print(\"\\ndivided array:\\n\",div_arr)\n",
        "\n",
        "div_arr1=arr/2\n",
        "print(\"divided array2:\\n\",div_arr1)\n",
        "\n",
        "#Find the element-wise modulus of two arrays: a = [5, 10, 15], b = [2, 3, 4].\n",
        "arr_a=np.array([5,10,15])\n",
        "arr_b=np.array([2,3,4])\n",
        "mod_arr=np.mod(arr_a,arr_b)\n",
        "print(\" \\nthe element-wise modulus of two arrays:\\n\",mod_arr)\n",
        "\n",
        "#Create two arrays: a = [1, 2, 3], b = [4, 5, 6]. Compute the dot product\n",
        "array_a=np.array([1,2,3])\n",
        "array_b=np.array([4,5,6])\n",
        "dot_product=np.dot(array_a,array_b)\n",
        "print(\"\\n Dot product:\\n\",dot_product)"
      ],
      "metadata": {
        "colab": {
          "base_uri": "https://localhost:8080/"
        },
        "collapsed": true,
        "id": "8DUcU61zQsIx",
        "outputId": "77ff440b-7bc2-4943-a272-008be746e819"
      },
      "execution_count": 4,
      "outputs": [
        {
          "output_type": "stream",
          "name": "stdout",
          "text": [
            "different:\n",
            " [-1 -1 -1 -1 -1]\n",
            "\n",
            "different array:\n",
            " [-1 -1 -1 -1 -1]\n",
            "\n",
            "product:\n",
            " [ 6 12 18 24]\n",
            "product array:\n",
            " [ 6 12 18 24]\n",
            "\n",
            "divided array:\n",
            " [ 5. 10. 15. 20.]\n",
            "divided array2:\n",
            " [ 5. 10. 15. 20.]\n",
            " \n",
            "the element-wise modulus of two arrays:\n",
            " [1 1 3]\n",
            "\n",
            " Dot product:\n",
            " 32\n"
          ]
        }
      ]
    },
    {
      "cell_type": "markdown",
      "source": [
        "Matrix Multiplication\n",
        "1. Create two matrices: a = [[2, 3], [4, 5]] and b = [[1, 0], [0, 1]]. Perform matrix\n",
        "multiplication.\n",
        "2. Multiply a 3x3 matrix with a 3x1 vector.\n",
        "3. Create a 4x4 identity matrix and multiply it by a 4x4 matrix filled with random\n",
        "integers.\n",
        "4. Perform matrix multiplication on two 3x3 matrices: a = [[1, 2, 3], [4, 5, 6], [7, 8, 9]]\n",
        "and b = [[9, 8, 7], [6, 5, 4], [3, 2, 1]].\n",
        "5. Create a 2x3 matrix and a 3x2 matrix. Perform matrix multiplication."
      ],
      "metadata": {
        "id": "zhgDcwmSSC7i"
      }
    },
    {
      "cell_type": "code",
      "source": [
        "import numpy as np\n",
        "#Create two matrices: a = [[2, 3], [4, 5]] and b = [[1, 0], [0, 1]]. Perform matrix multiplication.\n",
        "matrix_a=([[2,3],[4,5]])\n",
        "matrix_b=([[1,0],[0,1]])\n",
        "matrix_multi=np.dot(matrix_a,matrix_b)\n",
        "print(\"matrix multiplication:\\n\",matrix_multi)\n",
        "\n",
        "#Multiply a 3x3 matrix with a 3x1 vector.\n",
        "matrix_a=([[1,2,3],[4,5,6],[6,7,8]])\n",
        "vector_b=([[10],[20],[30]])\n",
        "result=np.dot(matrix_a,vector_b)\n",
        "print(\"\\nmatrix vector:\\n\",result)\n",
        "\n",
        "#Create a 4x4 identity matrix and multiply it by a 4x4 matrix filled with random integers.\n",
        "indentity_matrix=np.eye(4) #eye() use for indentity matrix\n",
        "random_matrix=np.random.randint(1,10,(4,4))\n",
        "result_matrix=np.dot(indentity_matrix,random_matrix)\n",
        "print(\"\\n indenty matrix:\\n\",indentity_matrix)\n",
        "print(\"\\n random matrix:\\n\",random_matrix)\n",
        "print(\"\\n result matrix:\\n\",result_matrix)\n",
        "\n",
        "#Perform matrix multiplication on two 3x3 matrices: a = [[1, 2, 3], [4, 5, 6], [7, 8, 9]] and b = [[9, 8, 7], [6, 5, 4], [3, 2, 1]].\n",
        "matrix_a=([[1, 2, 3], [4, 5, 6], [7, 8, 9]])\n",
        "matrix_b=([[9, 8, 7], [6, 5, 4], [3, 2, 1]])\n",
        "result=np.dot(matrix_a,matrix_b)\n",
        "print(\"\\nproduct matrix:\\n\",result)\n",
        "\n",
        "#Create a 2x3 matrix and a 3x2 matrix. Perform matrix multiplication.\n",
        "matrix_a=([[1,2,3],[4,5,6]])\n",
        "matrix_b=([[7,8],[9,10],[11,12]])\n",
        "result_matrix_multiplication=np.dot(matrix_a,matrix_b)\n",
        "print(\"\\nmatrix multiplication.\\n\",result_matrix_multiplication)"
      ],
      "metadata": {
        "colab": {
          "base_uri": "https://localhost:8080/"
        },
        "collapsed": true,
        "id": "scvesskcQ4br",
        "outputId": "2b871c8d-9fd3-4398-beb2-927ff21d27c3"
      },
      "execution_count": 5,
      "outputs": [
        {
          "output_type": "stream",
          "name": "stdout",
          "text": [
            "matrix multiplication:\n",
            " [[2 3]\n",
            " [4 5]]\n",
            "\n",
            "matrix vector:\n",
            " [[140]\n",
            " [320]\n",
            " [440]]\n",
            "\n",
            " indenty matrix:\n",
            " [[1. 0. 0. 0.]\n",
            " [0. 1. 0. 0.]\n",
            " [0. 0. 1. 0.]\n",
            " [0. 0. 0. 1.]]\n",
            "\n",
            " random matrix:\n",
            " [[4 6 3 6]\n",
            " [3 7 7 4]\n",
            " [1 1 7 9]\n",
            " [9 9 3 1]]\n",
            "\n",
            " result matrix:\n",
            " [[4. 6. 3. 6.]\n",
            " [3. 7. 7. 4.]\n",
            " [1. 1. 7. 9.]\n",
            " [9. 9. 3. 1.]]\n",
            "\n",
            "product matrix:\n",
            " [[ 30  24  18]\n",
            " [ 84  69  54]\n",
            " [138 114  90]]\n",
            "\n",
            "matrix multiplication.\n",
            " [[ 58  64]\n",
            " [139 154]]\n"
          ]
        }
      ]
    },
    {
      "cell_type": "markdown",
      "source": [
        "Broadcasting\n",
        "1. Create a 1D array: array = [10, 20, 30]. Subtract a scalar value, 5, using broadcasting.\n",
        "2. Create a 3x3 array and a 3x1 array. Add them using broadcasting.\n",
        "3. Divide a 4x4 array by a scalar value, 2, using broadcasting.\n",
        "4. Create a 3x3 array and add 3 to each element using broadcasting.\n",
        "5. Multiply a 1D array of shape (5,) by a 2D array of shape (5, 5) using broadcasting."
      ],
      "metadata": {
        "id": "SDDYGt10SLM5"
      }
    },
    {
      "cell_type": "code",
      "source": [
        "import numpy as np\n",
        "\n",
        "#Create a 1D array: array = [10, 20, 30]. Subtract a scalar value, 5, using broadcasting.\n",
        "arr_a= np.array([10,20,30])\n",
        "scalar=5\n",
        "broadcasted_array=arr_a-scalar\n",
        "print(\"broadcasted Array:\\n\",broadcasted_array)\n",
        "\n",
        "#Create a 3x3 array and a 3x1 array. Add them using broadcasting.\n",
        "arr_a=np.array([[1,2,3],[4,5,6],[7,8,9]])\n",
        "arr_b=np.array([[10],[20],[30]])\n",
        "broadcasted_array=arr_a + arr_b\n",
        "print(\"\\n Add using broadcasting:\\n\",broadcasted_array)\n",
        "\n",
        "#Divide a 4x4 array by a scalar value, 2, using broadcasting.\n",
        "arr_a=np.array([[1,2,3,4],[5,6,7,8,],[9,10,11,12,],[13,14,15,16,]])\n",
        "scalar=2\n",
        "broadcasted_array=arr_a/2\n",
        "print(\"\\n divide using broadcasting:\\n\",broadcasted_array)\n",
        "\n",
        "#Create a 3x3 array and add 3 to each element using broadcasting.\n",
        "arr_a=np.array([[1,2,3],[4,5,6],[7,8,9]])\n",
        "scalar=3\n",
        "broadcasted_array=array_a + scalar\n",
        "print(\"\\n Add using broadcasting:\\n\",broadcasted_array)\n",
        "\n",
        "#Multiply a 1D array of shape (5,) by a 2D array of shape (5, 5) using broadcasting.\n",
        "arr_a= np.array([1,2,3,4,5])\n",
        "arr_b=np.array([[1,2,3,4,5],[6,7,8,9,10],[11,12,13,14,15],[16,17,18,19,20],[21,22,23,24,25]])\n",
        "broadcasted_array=arr_a[:,np.newaxis]*arr_b\n",
        "print(\"\\nshaping using broadcasting:\\n\",broadcasted_array)"
      ],
      "metadata": {
        "colab": {
          "base_uri": "https://localhost:8080/"
        },
        "collapsed": true,
        "id": "32CLRO0URH5u",
        "outputId": "7226c910-059c-4f4b-fb89-7d75d59b0756"
      },
      "execution_count": 6,
      "outputs": [
        {
          "output_type": "stream",
          "name": "stdout",
          "text": [
            "broadcasted Array:\n",
            " [ 5 15 25]\n",
            "\n",
            " Add using broadcasting:\n",
            " [[11 12 13]\n",
            " [24 25 26]\n",
            " [37 38 39]]\n",
            "\n",
            " divide using broadcasting:\n",
            " [[0.5 1.  1.5 2. ]\n",
            " [2.5 3.  3.5 4. ]\n",
            " [4.5 5.  5.5 6. ]\n",
            " [6.5 7.  7.5 8. ]]\n",
            "\n",
            " Add using broadcasting:\n",
            " [4 5 6]\n",
            "\n",
            "shaping using broadcasting:\n",
            " [[  1   2   3   4   5]\n",
            " [ 12  14  16  18  20]\n",
            " [ 33  36  39  42  45]\n",
            " [ 64  68  72  76  80]\n",
            " [105 110 115 120 125]]\n"
          ]
        }
      ]
    },
    {
      "cell_type": "markdown",
      "source": [
        "Statistical Operations\n",
        "1. Calculate the median of the array: data = [1, 2, 3, 4, 5, 6, 7, 8, 9, 10].\n",
        "2. Calculate the mode of the array: data = [1, 2, 2, 3, 4, 4, 4, 5, 6].\n",
        "3. Calculate the range of the array: data = [10, 20, 30, 40, 50].\n",
        "4. Calculate the 25th percentile of the array: data = [1, 2, 3, 4, 5, 6, 7, 8, 9, 10].\n",
        "5. Calculate the correlation coefficient between two arrays: a = [1, 2, 3, 4, 5] and b = [2,\n",
        "4, 6, 8, 10]."
      ],
      "metadata": {
        "id": "MaMgt0cOSUKr"
      }
    },
    {
      "cell_type": "code",
      "source": [
        "import numpy as np\n",
        "#Calculate the median of the array: data = [1, 2, 3, 4, 5, 6, 7, 8, 9, 10].\n",
        "data =np.array([1, 2, 3, 4, 5, 6, 7, 8, 9, 10])\n",
        "median_value=np.median(data)\n",
        "print(\"Median value:\\n\",median_value)\n",
        "\n",
        "from scipy import stats\n",
        "#Calculate the mode of the array: data = [1, 2, 2, 3, 4, 4, 4, 5, 6].\n",
        "data=np.array([1, 2, 2, 3, 4, 4, 4, 5, 6])\n",
        "mode_value=stats.mode(data)\n",
        "print(\"\\nMode value:\\n\",mode_value)\n",
        "\n",
        "#Calculate the range of the array: data = [10, 20, 30, 40, 50].\n",
        "data = np.array([10, 20, 30, 40, 50])\n",
        "range_of_arr=np.ptp(data)\n",
        "print(\"\\nRange of array-->\",range_of_arr)\n",
        "\n",
        "#Calculate the 25th percentile of the array: data = [1, 2, 3, 4, 5, 6, 7, 8, 9, 10].\n",
        "data=np.array([1, 2, 3, 4, 5, 6, 7, 8, 9, 10])\n",
        "percentile_value=np.percentile(data,25)\n",
        "print(\"\\n25th percentile of the array-->\",percentile_value)\n",
        "\n",
        "#Calculate the correlation coefficient between two arrays: a = [1, 2, 3, 4, 5] and b = [2, 4, 6, 8, 10].\n",
        "\n",
        "data_a =np.array([1, 2, 3, 4, 5])\n",
        "data_b =np.array([2, 4, 6, 8, 10])\n",
        "correlation_coefficient_value=np.corrcoef(data_a,data_b)\n",
        "print(\"\\n correlation coefficient value-->\\n\",correlation_coefficient_value)"
      ],
      "metadata": {
        "colab": {
          "base_uri": "https://localhost:8080/"
        },
        "collapsed": true,
        "id": "kPLV1ZA_RXXi",
        "outputId": "abd63b5e-d232-4a87-b199-ef5806999f36"
      },
      "execution_count": 7,
      "outputs": [
        {
          "output_type": "stream",
          "name": "stdout",
          "text": [
            "Median value:\n",
            " 5.5\n",
            "\n",
            "Mode value:\n",
            " ModeResult(mode=4, count=3)\n",
            "\n",
            "Range of array--> 40\n",
            "\n",
            "25th percentile of the array--> 3.25\n",
            "\n",
            " correlation coefficient value-->\n",
            " [[1. 1.]\n",
            " [1. 1.]]\n"
          ]
        }
      ]
    },
    {
      "cell_type": "markdown",
      "source": [
        "Reshaping Arrays\n",
        "\n",
        "1. Reshape a 1D array of 12 elements to a 3x4 array.\n",
        "2. Reshape a 2D array of shape (6, 2) to (3, 4).\n",
        "3. Create a 4x4 array and flatten it.\n",
        "4. Reshape a 3D array of shape (2, 3, 4) to (4, 3, 2).\n",
        "5. Reshape a 1D array to a 2D array with 1 row and many columns."
      ],
      "metadata": {
        "id": "MhqcKebGSY63"
      }
    },
    {
      "cell_type": "code",
      "source": [
        "import numpy as np\n",
        "#Reshape a 1D array of 12 elements to a 3x4 array.\n",
        "arr =np.array([1, 2, 3, 4, 5, 6, 7, 8, 9, 10,11,12])\n",
        "Reshape_arr=arr.reshape(3,4)\n",
        "print(\"Reshape Array:\\n\",Reshape_arr)\n",
        "\n",
        "#Reshape a 2D array of shape (6, 2) to (3, 4).\n",
        "arr =np.array([[1, 2],[ 3, 4],[ 5, 6],[7, 8],[9, 10],[11,12]])\n",
        "Reshape_arr=arr.reshape(3,4)\n",
        "print(\"\\n Reshape Array2:\\n\",Reshape_arr)\n",
        "\n",
        "#Create a 4x4 array and flatten it\n",
        "arr =np.array([[1, 2, 3, 4],[ 5, 6, 7, 8],[9, 10,11,12],[13,14,15,16]])\n",
        "flatten_array=arr.flatten()\n",
        "print(\"\\noriginal array:\\n\",arr)\n",
        "print(\"\\nflatten array:\\n\",flatten_array)\n"
      ],
      "metadata": {
        "collapsed": true,
        "colab": {
          "base_uri": "https://localhost:8080/"
        },
        "id": "F1ggLzhlRiFi",
        "outputId": "f39632ac-cf68-45df-ffc9-4ec361d0526f"
      },
      "execution_count": 8,
      "outputs": [
        {
          "output_type": "stream",
          "name": "stdout",
          "text": [
            "Reshape Array:\n",
            " [[ 1  2  3  4]\n",
            " [ 5  6  7  8]\n",
            " [ 9 10 11 12]]\n",
            "\n",
            " Reshape Array2:\n",
            " [[ 1  2  3  4]\n",
            " [ 5  6  7  8]\n",
            " [ 9 10 11 12]]\n",
            "\n",
            "original array:\n",
            " [[ 1  2  3  4]\n",
            " [ 5  6  7  8]\n",
            " [ 9 10 11 12]\n",
            " [13 14 15 16]]\n",
            "\n",
            "flatten array:\n",
            " [ 1  2  3  4  5  6  7  8  9 10 11 12 13 14 15 16]\n"
          ]
        }
      ]
    },
    {
      "cell_type": "markdown",
      "source": [
        "Element-wise Operations\n",
        "1. Create two arrays: a = [1, 3, 5] and b = [2, 4, 6]. Perform element-wise division.\n",
        "2. Create two arrays: a = [2, 4, 6] and b = [1, 3, 5]. Perform element-wise modulus.\n",
        "3. Add 10 to each element in the array: a = [1, 2, 3, 4, 5].\n",
        "4. Subtract 5 from each element in the array: b = [10, 20, 30, 40, 50].\n",
        "5. Square each element in the array: c = [1, 2, 3, 4, 5]."
      ],
      "metadata": {
        "id": "9DsdElowSjc4"
      }
    },
    {
      "cell_type": "code",
      "source": [
        "import numpy as np\n",
        "#Create two arrays: a = [1, 3, 5] and b = [2, 4, 6]. Perform element-wise division.\n",
        "arr_a=np.array([1, 3, 5])\n",
        "arr_b=np.array([2, 4, 6])\n",
        "result_array=arr_a / arr_b\n",
        "print(\"element-wise division:\",result_array)\n",
        "\n",
        "#Create two arrays: a = [2, 4, 6] and b = [1, 3, 5]. Perform element-wise modulus.\n",
        "arr_a=np.array([2,4,6])\n",
        "arr_b=np.array([1,3,6])\n",
        "result_array=arr_a % arr_b\n",
        "print(\"\\nelement-wise division:\",result_array)\n",
        "\n",
        "#Add 10 to each element in the array: a = [1, 2, 3, 4, 5].\n",
        "arr = np.array([1, 2, 3, 4, 5])\n",
        "result_array=arr+10\n",
        "print(\"\\n Add 10 to each element in the array:\",result_array)\n",
        "\n",
        "#Subtract 5 from each element in the array: b = [10, 20, 30, 40, 50].\n",
        "arr = np.array([10, 20, 30, 40, 50])\n",
        "result_array=arr-5\n",
        "print(\"\\nSubtract 5 from each element in the array:\",result_array)\n",
        "\n",
        "#Square each element in the array: c = [1, 2, 3, 4, 5].\n",
        "arr = np.array([1, 2, 3, 4, 5])\n",
        "result_array=arr**2\n",
        "print(\"\\n Square each element in the array:\",result_array)"
      ],
      "metadata": {
        "collapsed": true,
        "colab": {
          "base_uri": "https://localhost:8080/"
        },
        "id": "xVP3i6pUSopz",
        "outputId": "37976af4-52ee-4f1a-98d6-d6467246b324"
      },
      "execution_count": 9,
      "outputs": [
        {
          "output_type": "stream",
          "name": "stdout",
          "text": [
            "element-wise division: [0.5        0.75       0.83333333]\n",
            "\n",
            "element-wise division: [0 1 0]\n",
            "\n",
            " Add 10 to each element in the array: [11 12 13 14 15]\n",
            "\n",
            "Subtract 5 from each element in the array: [ 5 15 25 35 45]\n",
            "\n",
            " Square each element in the array: [ 1  4  9 16 25]\n"
          ]
        }
      ]
    },
    {
      "cell_type": "markdown",
      "source": [
        "Slicing and Indexing\n",
        "1. Create a 3D array: array_3d = [[[1, 2, 3], [4, 5, 6]], [[7, 8, 9], [10, 11, 12]]]. Access\n",
        "the element at [1, 1, 1].\n",
        "2. Slice the first layer of a 3D array: array_3d = [[[1, 2, 3], [4, 5, 6]], [[7, 8, 9], [10, 11,\n",
        "12]]].\n",
        "3. Access all elements in the last row of the array: array_2d = [[10, 20, 30], [40, 50, 60],\n",
        "[70, 80, 90]].\n",
        "4. Access all elements in the first column of the array: array_2d = [[10, 20, 30], [40, 50,\n",
        "60], [70, 80, 90]].\n",
        "5. Slice the last two rows and columns of the array: array_2d = [[10, 20, 30], [40, 50,\n",
        "60], [70, 80, 90]]."
      ],
      "metadata": {
        "id": "5u4l4OHtSvix"
      }
    },
    {
      "cell_type": "code",
      "source": [
        "import numpy as np\n",
        "#Create a 3D array: array_3d = [[[1, 2, 3], [4, 5, 6]], [[7, 8, 9], [10, 11, 12]]]. Access the element at [1, 1, 1].\n",
        "\n",
        "array_3d =np.array([[[1, 2, 3], [4, 5, 6]], [[7, 8, 9], [10, 11, 12]]])\n",
        "print(\"array 3D:\\n\",array_3d)\n",
        "element=array_3d[1,1,1]\n",
        "print(\"element at [1,1,1]:\",element)\n",
        "\n",
        "#Slice the first layer of a 3D array: array_3d = [[[1, 2, 3], [4, 5, 6]], [[7, 8, 9], [10, 11, 12]]].\n",
        "\n",
        "array_3d =np.array([[[1, 2, 3], [4, 5, 6]], [[7, 8, 9], [10, 11, 12]]])\n",
        "element_array=array_3d[0:1,]\n",
        "print(\"\\n actual array:\\n\",array_3d)\n",
        "print(\"Slice the first layer of a 3D array:\\n\",element_array)\n",
        "\n",
        "#Access all elements in the last row of the array: array_2d = [[10, 20, 30], [40, 50, 60], [70, 80, 90]].\n",
        "\n",
        "array_2d =np.array([[10, 20, 30], [40, 50, 60], [70, 80, 90]])\n",
        "ele_arr=array_2d[-1:,]\n",
        "print(\"\\narray:\\n\",array_2d)\n",
        "print(\"Access all elements in the last row of the array:\\n\",ele_arr)\n",
        "\n",
        "#Access all elements in the first column of the array: array_2d = [[10, 20, 30], [40, 50, 60], [70, 80, 90]].\n",
        "\n",
        "array_2d =np.array([[10, 20, 30], [40, 50, 60], [70, 80, 90]])\n",
        "ele_arr=array_2d[:,:1]\n",
        "print(\"\\narray_2D:\\n\",array_2d)\n",
        "print(\"Access all elements in the first column of the array:\\n\",ele_arr)\n",
        "\n",
        "#Slice the last two rows and columns of the array: array_2d = [[10, 20, 30], [40, 50, 60], [70, 80, 90]].\n",
        "\n",
        "array_2d =np.array([[10, 20, 30], [40, 50, 60], [70, 80, 90]])\n",
        "ele_arr=array_2d[-2:,-2:]\n",
        "print(\"\\narray_2D:\\n\",array_2d)\n",
        "print(\"Slice the last two rows and columns of the array:\\n\",ele_arr)"
      ],
      "metadata": {
        "colab": {
          "base_uri": "https://localhost:8080/"
        },
        "collapsed": true,
        "id": "9ZqV3_zNS0in",
        "outputId": "4f173316-9cd9-4cda-dbc8-d692746fa77e"
      },
      "execution_count": 10,
      "outputs": [
        {
          "output_type": "stream",
          "name": "stdout",
          "text": [
            "array 3D:\n",
            " [[[ 1  2  3]\n",
            "  [ 4  5  6]]\n",
            "\n",
            " [[ 7  8  9]\n",
            "  [10 11 12]]]\n",
            "element at [1,1,1]: 11\n",
            "\n",
            " actual array:\n",
            " [[[ 1  2  3]\n",
            "  [ 4  5  6]]\n",
            "\n",
            " [[ 7  8  9]\n",
            "  [10 11 12]]]\n",
            "Slice the first layer of a 3D array:\n",
            " [[[1 2 3]\n",
            "  [4 5 6]]]\n",
            "\n",
            "array:\n",
            " [[10 20 30]\n",
            " [40 50 60]\n",
            " [70 80 90]]\n",
            "Access all elements in the last row of the array:\n",
            " [[70 80 90]]\n",
            "\n",
            "array_2D:\n",
            " [[10 20 30]\n",
            " [40 50 60]\n",
            " [70 80 90]]\n",
            "Access all elements in the first column of the array:\n",
            " [[10]\n",
            " [40]\n",
            " [70]]\n",
            "\n",
            "array_2D:\n",
            " [[10 20 30]\n",
            " [40 50 60]\n",
            " [70 80 90]]\n",
            "Slice the last two rows and columns of the array:\n",
            " [[50 60]\n",
            " [80 90]]\n"
          ]
        }
      ]
    },
    {
      "cell_type": "markdown",
      "source": [
        "Creating Random Arrays\n",
        "1. Generate a random array of 20 elements with values between 0 and 1.\n",
        "2. Create a 4x4 array with random integers between 10 and 20.\n",
        "3. Create a 3x3 array with random floats between -1 and 1.\n",
        "4. Generate an array of 15 random integers between 100 and 200.\n",
        "5. Create a 5x5 array with random floats between 0 and 10."
      ],
      "metadata": {
        "id": "uNFTMHP5S6uw"
      }
    },
    {
      "cell_type": "code",
      "source": [
        "import numpy as np\n",
        "\n",
        "#Generate a random array of 20 elements with values between 0 and 1.\n",
        "random_arr=np.random.rand(20)\n",
        "print(\" random array of 20 elements with values between 0 and 1:\\n\",random_arr)\n",
        "\n",
        "#Create a 4x4 array with random integers between 10 and 20.\n",
        "random_arr=np.random.randint(10,20,(4,4))\n",
        "print(\"\\n 4x4 array with random integers between 10 and 20\\n\",random_arr)\n",
        "\n",
        "#Create a 3x3 array with random floats between -1 and 1.\n",
        "random_arr=np.random.randint(-1,1,(3,3))\n",
        "print(\"\\n 3x3 array with random floats between -1 and 1\\n\",random_arr)\n",
        "\n",
        "#Generate an array of 15 random integers between 100 and 200.\n",
        "random_arr=np.random.randint(100,200,15)\n",
        "print(\"\\narray of 15 random integers between 100 and 200\\n\",random_arr)\n",
        "\n",
        "#Create a 5x5 array with random floats between 0 and 10.\n",
        "random_arr=np.random.randint(0,10,(5,5))\n",
        "print(\"\\n5x5 array with random floats between 0 and 10\\n\",random_arr)"
      ],
      "metadata": {
        "colab": {
          "base_uri": "https://localhost:8080/"
        },
        "collapsed": true,
        "id": "NRpZlRPNS9ti",
        "outputId": "bf105d9d-12e9-4213-a8c1-35b6a5428afa"
      },
      "execution_count": 11,
      "outputs": [
        {
          "output_type": "stream",
          "name": "stdout",
          "text": [
            " random array of 20 elements with values between 0 and 1:\n",
            " [0.91912288 0.01885065 0.25069216 0.87785886 0.99621364 0.7082347\n",
            " 0.17367149 0.11891092 0.20848298 0.32851409 0.42240789 0.21318644\n",
            " 0.99007666 0.64628348 0.50010123 0.69803197 0.56059685 0.45401697\n",
            " 0.83712538 0.09148934]\n",
            "\n",
            " 4x4 array with random integers between 10 and 20\n",
            " [[10 13 16 12]\n",
            " [14 13 10 16]\n",
            " [11 12 17 10]\n",
            " [15 16 13 18]]\n",
            "\n",
            " 3x3 array with random floats between -1 and 1\n",
            " [[-1  0 -1]\n",
            " [ 0  0  0]\n",
            " [-1 -1  0]]\n",
            "\n",
            "array of 15 random integers between 100 and 200\n",
            " [118 100 136 149 136 142 172 190 101 187 122 195 171 139 162]\n",
            "\n",
            "5x5 array with random floats between 0 and 10\n",
            " [[1 2 6 6 3]\n",
            " [5 7 3 8 0]\n",
            " [0 6 7 4 0]\n",
            " [7 3 9 3 8]\n",
            " [0 9 5 1 7]]\n"
          ]
        }
      ]
    },
    {
      "cell_type": "markdown",
      "source": [
        "Stacking and Concatenating Arrays\n",
        "1. Vertically stack two arrays: a = [[1, 2], [3, 4]] and b = [[5, 6], [7, 8]].\n",
        "2. Horizontally stack two arrays: a = [[1, 2], [3, 4]] and b = [[5, 6], [7, 8]].\n",
        "3. Concatenate two 1D arrays: a = [1, 2, 3] and b = [4, 5, 6].\n",
        "4. Concatenate two 3x3 arrays along rows: a = [[1, 2, 3], [4, 5, 6], [7, 8, 9]] and b = [[10,\n",
        "11, 12], [13, 14, 15], [16, 17, 18]].\n",
        "5. Concatenate two 3x3 arrays along columns: a = [[1, 2, 3], [4, 5, 6], [7, 8, 9]] and b =\n",
        "[[10, 11, 12], [13, 14, 15], [16, 17, 18]]."
      ],
      "metadata": {
        "id": "n3Pa-V4eTe-l"
      }
    },
    {
      "cell_type": "code",
      "source": [
        "import numpy as np\n",
        "\n",
        "#Vertically stack two arrays: a = [[1, 2], [3, 4]] and b = [[5, 6], [7, 8]].\n",
        "\n",
        "arr_a=np.array([[1, 2], [3, 4]])\n",
        "arr_b=np.array([[5, 6], [7, 8]])\n",
        "Vertically_stack = np.vstack((arr_a,arr_b))\n",
        "print(\"Vertically stack two arrays:\\n\",Vertically_stack)\n",
        "\n",
        "#Horizontally stack two arrays: a = [[1, 2], [3, 4]] and b = [[5, 6], [7, 8]].\n",
        "\n",
        "Horizontally_stack = np.hstack((arr_a,arr_b))\n",
        "print(\"\\nHorizontally stack two arrays:\\n\",Horizontally_stack)\n",
        "\n",
        "#Concatenate two 1D arrays: a = [1, 2, 3] and b = [4, 5, 6].\n",
        "\n",
        "arr_a=np.array([1, 2,3])\n",
        "arr_b=np.array([4,5,6])\n",
        "#concatenate_arr=arr_a + arr_b\n",
        "a=np.concatenate((arr_a ,arr_b))\n",
        "#print(\"\\nConcatenate two 1D arrays:\\n\",Concatenate_arr)\n",
        "print(\"\\nConcatenate two 1D arrays:\\n\",a)\n",
        "\n",
        "#Concatenate two 3x3 arrays along rows: a = [[1, 2, 3], [4, 5, 6], [7, 8, 9]] and b = [[10, 11, 12], [13, 14, 15], [16, 17, 18]].\n",
        "\n",
        "arr_a=np.array([[1, 2,3],[4,5,6],[7,8,9]])\n",
        "arr_b=np.array([[10,11,12],[13,14,15],[16,17,18]])\n",
        "cont_arr=np.concatenate((arr_a,arr_b),axis=0)#axis=0 use for row\n",
        "print(\"\\nConcatenate two 3x3 arrays along rows:\\n\",cont_arr)\n",
        "\n",
        "#Concatenate two 3x3 arrays along columns: a = [[1, 2, 3], [4, 5, 6], [7, 8, 9]] and b = [[10, 11, 12], [13, 14, 15], [16, 17, 18]].\n",
        "\n",
        "cont_arr=np.concatenate((arr_a,arr_b),axis=1)#axis=1 use for column\n",
        "print(\"\\nConcatenate two 3x3 arrays along rows:\\n\",cont_arr)"
      ],
      "metadata": {
        "colab": {
          "base_uri": "https://localhost:8080/"
        },
        "collapsed": true,
        "id": "I1KhG1hjT9Nb",
        "outputId": "5e91814f-2e10-46f4-9d1c-5506d0ee164d"
      },
      "execution_count": 14,
      "outputs": [
        {
          "output_type": "stream",
          "name": "stdout",
          "text": [
            "Vertically stack two arrays:\n",
            " [[1 2]\n",
            " [3 4]\n",
            " [5 6]\n",
            " [7 8]]\n",
            "\n",
            "Horizontally stack two arrays:\n",
            " [[1 2 5 6]\n",
            " [3 4 7 8]]\n",
            "\n",
            "Concatenate two 1D arrays:\n",
            " [1 2 3 4 5 6]\n",
            "\n",
            "Concatenate two 3x3 arrays along rows:\n",
            " [[ 1  2  3]\n",
            " [ 4  5  6]\n",
            " [ 7  8  9]\n",
            " [10 11 12]\n",
            " [13 14 15]\n",
            " [16 17 18]]\n",
            "\n",
            "Concatenate two 3x3 arrays along rows:\n",
            " [[ 1  2  3 10 11 12]\n",
            " [ 4  5  6 13 14 15]\n",
            " [ 7  8  9 16 17 18]]\n"
          ]
        }
      ]
    },
    {
      "cell_type": "markdown",
      "source": [],
      "metadata": {
        "id": "95XtQFjiUFUA"
      }
    },
    {
      "cell_type": "markdown",
      "source": [
        "# NumPy Basics for Deep Learning"
      ],
      "metadata": {
        "id": "Le2SanX3Xut-"
      }
    },
    {
      "cell_type": "markdown",
      "source": [
        "1. Basic Array Creation\n",
        "1. Create a 1D array with the elements [1, 2, 3, 4, 5].\n",
        "2. Create a 2D array with the elements [[1, 2, 3], [4, 5, 6]].\n",
        "3. Create a 3x3 array filled with zeros.\n",
        "4. Create a 2x2 array filled with ones."
      ],
      "metadata": {
        "id": "B1LZ9iPqYXdN"
      }
    },
    {
      "cell_type": "code",
      "source": [
        "import numpy as np\n",
        "# Create a 1D array\n",
        "array_1d = np.array([1, 2, 3, 4, 5])\n",
        "print (\"1D Array:\", array_1d)"
      ],
      "metadata": {
        "colab": {
          "base_uri": "https://localhost:8080/"
        },
        "id": "iVgMfDWGZEen",
        "outputId": "5727e1a1-e060-49b7-a45f-15deb736f44e"
      },
      "execution_count": 18,
      "outputs": [
        {
          "output_type": "stream",
          "name": "stdout",
          "text": [
            "1D Array: [1 2 3 4 5]\n"
          ]
        }
      ]
    },
    {
      "cell_type": "code",
      "source": [
        "# Create a 2D array\n",
        "array_2d = np.array([[1, 2, 3], [4, 5, 6]])\n",
        "print(\"2D Array:\\n\", array_2d)"
      ],
      "metadata": {
        "colab": {
          "base_uri": "https://localhost:8080/"
        },
        "id": "jfSR-TMbZsZA",
        "outputId": "fd883aa4-d43d-462f-8df8-156d580be7f7"
      },
      "execution_count": 20,
      "outputs": [
        {
          "output_type": "stream",
          "name": "stdout",
          "text": [
            "2D Array:\n",
            " [[1 2 3]\n",
            " [4 5 6]]\n"
          ]
        }
      ]
    },
    {
      "cell_type": "code",
      "source": [
        "# Create an array with zeros\n",
        "zeros_array = np.zeros((3, 3))\n",
        "print(\"Zeros Array:\\n\", zeros_array)"
      ],
      "metadata": {
        "colab": {
          "base_uri": "https://localhost:8080/"
        },
        "id": "a7Swua92aMlA",
        "outputId": "db9493be-c0f1-4b2e-d3b2-cf81c31bb4cd"
      },
      "execution_count": 21,
      "outputs": [
        {
          "output_type": "stream",
          "name": "stdout",
          "text": [
            "Zeros Array:\n",
            " [[0. 0. 0.]\n",
            " [0. 0. 0.]\n",
            " [0. 0. 0.]]\n"
          ]
        }
      ]
    },
    {
      "cell_type": "code",
      "source": [
        "# Create an array with ones\n",
        "ones_array = np.ones((2, 2))\n",
        "print(\"Ones Array:\\n\", ones_array)"
      ],
      "metadata": {
        "colab": {
          "base_uri": "https://localhost:8080/"
        },
        "id": "LcywY2bFaYGj",
        "outputId": "97806d97-119f-4629-af9e-5916f660b0c9"
      },
      "execution_count": 22,
      "outputs": [
        {
          "output_type": "stream",
          "name": "stdout",
          "text": [
            "Ones Array:\n",
            " [[1. 1.]\n",
            " [1. 1.]]\n"
          ]
        }
      ]
    },
    {
      "cell_type": "markdown",
      "source": [
        "# 2. Array Operations\n",
        "\n",
        "1. Create two arrays: a = [1, 2, 3] and b = [4, 5, 6].\n",
        "2. Perform element-wise addition, subtraction, multiplication, and division on these arrays."
      ],
      "metadata": {
        "id": "YhtTI7VmakRl"
      }
    },
    {
      "cell_type": "code",
      "source": [
        "import numpy as np\n",
        "\n",
        "# Create two arrays\n",
        "a = np.array([1, 2, 3])\n",
        "b = np.array([4, 5, 6])"
      ],
      "metadata": {
        "id": "Y3QtQnRCanYw"
      },
      "execution_count": 23,
      "outputs": []
    },
    {
      "cell_type": "code",
      "source": [
        "# Addition\n",
        "sum_array = np.add(a, b)\n",
        "print(\"Sum:\", sum_array)"
      ],
      "metadata": {
        "colab": {
          "base_uri": "https://localhost:8080/"
        },
        "id": "NeXLQ-MsbAcn",
        "outputId": "e1786561-2122-4578-e1f8-8b1492c0c220"
      },
      "execution_count": 24,
      "outputs": [
        {
          "output_type": "stream",
          "name": "stdout",
          "text": [
            "Sum: [5 7 9]\n"
          ]
        }
      ]
    },
    {
      "cell_type": "code",
      "source": [
        "# Subtraction\n",
        "diff_array = np.subtract(a, b)\n",
        "print(\"Difference:\", diff_array)"
      ],
      "metadata": {
        "colab": {
          "base_uri": "https://localhost:8080/"
        },
        "id": "CmrD7Z2UbLc6",
        "outputId": "cf52cb29-47df-420e-91d9-2eb840692fb3"
      },
      "execution_count": 25,
      "outputs": [
        {
          "output_type": "stream",
          "name": "stdout",
          "text": [
            "Difference: [-3 -3 -3]\n"
          ]
        }
      ]
    },
    {
      "cell_type": "code",
      "source": [
        "# Multiplication\n",
        "product_array = np.multiply(a, b)\n",
        "print(\"Product:\", product_array)"
      ],
      "metadata": {
        "colab": {
          "base_uri": "https://localhost:8080/"
        },
        "id": "KiyLvtxgbUEa",
        "outputId": "5f64dbec-731f-47b6-cfb9-ea28987d28a6"
      },
      "execution_count": 26,
      "outputs": [
        {
          "output_type": "stream",
          "name": "stdout",
          "text": [
            "Product: [ 4 10 18]\n"
          ]
        }
      ]
    },
    {
      "cell_type": "code",
      "source": [
        "# Division\n",
        "quotient_array = np.divide(a, b)\n",
        "print(\"Quotient:\", quotient_array)"
      ],
      "metadata": {
        "colab": {
          "base_uri": "https://localhost:8080/"
        },
        "id": "3Qky0kHHbh5D",
        "outputId": "b67c62e0-891d-461c-aeb7-aa9573804ef4"
      },
      "execution_count": 27,
      "outputs": [
        {
          "output_type": "stream",
          "name": "stdout",
          "text": [
            "Quotient: [0.25 0.4  0.5 ]\n"
          ]
        }
      ]
    },
    {
      "cell_type": "markdown",
      "source": [
        "# 3. Matrix Multiplication\n",
        "\n",
        "1. Create two matrices: matrix_a = [[1, 2], [3, 4]] and matrix_b = [[5, 6], [7, 8]].\n",
        "2. Perform matrix multiplication on these matrices."
      ],
      "metadata": {
        "id": "oWTvBZXxbu0M"
      }
    },
    {
      "cell_type": "code",
      "source": [
        "import numpy as np\n",
        "# Create two matrices\n",
        "matrix_a = np.array([[1, 2], [3, 4]])\n",
        "matrix_b = np.array([[5, 6], [7, 8]])"
      ],
      "metadata": {
        "id": "Dz9z5t8Ybw4o"
      },
      "execution_count": 28,
      "outputs": []
    },
    {
      "cell_type": "code",
      "source": [
        "# Matrix multiplication\n",
        "matrix_product = np.dot(matrix_a, matrix_b)\n",
        "print(\"Matrix Product:\\n\", matrix_product)"
      ],
      "metadata": {
        "colab": {
          "base_uri": "https://localhost:8080/"
        },
        "id": "bb-XFN_Ib0v8",
        "outputId": "4c9ea487-bb3f-491b-8219-f7b66fd4bab0"
      },
      "execution_count": 30,
      "outputs": [
        {
          "output_type": "stream",
          "name": "stdout",
          "text": [
            "Matrix Product:\n",
            " [[19 22]\n",
            " [43 50]]\n"
          ]
        }
      ]
    },
    {
      "cell_type": "markdown",
      "source": [
        "# 4. Broadcasting\n",
        "\n",
        "1. Create an array: array = [1, 2, 3].\n",
        "2. Multiply this array by a scalar value, e.g., 2, using broadcasting."
      ],
      "metadata": {
        "id": "fwD4cyIlcHhf"
      }
    },
    {
      "cell_type": "code",
      "source": [
        "import numpy as np\n",
        "# Create an array and a scalar\n",
        "array = np.array([1, 2, 3])\n",
        "scalar = 2"
      ],
      "metadata": {
        "id": "AlqBigdacKCM"
      },
      "execution_count": 31,
      "outputs": []
    },
    {
      "cell_type": "code",
      "source": [
        "# Broadcasting\n",
        "broadcasted_array = array * scalar\n",
        "print(\"Broadcasted Array:\", broadcasted_array)"
      ],
      "metadata": {
        "colab": {
          "base_uri": "https://localhost:8080/"
        },
        "id": "JJz_fctjcN-E",
        "outputId": "f5ad021f-0e3d-4e4b-90c3-944133da8d5e"
      },
      "execution_count": 32,
      "outputs": [
        {
          "output_type": "stream",
          "name": "stdout",
          "text": [
            "Broadcasted Array: [2 4 6]\n"
          ]
        }
      ]
    },
    {
      "cell_type": "markdown",
      "source": [
        "# 5. Statistical Operations\n",
        "\n",
        "1. Create an array: data = [1, 2, 3, 4, 5].\n",
        "2. Calculate the mean, standard deviation, and sum of this array."
      ],
      "metadata": {
        "id": "QfeMvT7bcYmE"
      }
    },
    {
      "cell_type": "code",
      "source": [
        "import numpy as np\n",
        "# Create an array\n",
        "data = np.array([1, 2, 3, 4, 5])"
      ],
      "metadata": {
        "id": "utnVlZO_cqDt"
      },
      "execution_count": 34,
      "outputs": []
    },
    {
      "cell_type": "code",
      "source": [
        "# Mean\n",
        "mean_value = np.mean(data)\n",
        "print(\"Mean:\", mean_value)"
      ],
      "metadata": {
        "colab": {
          "base_uri": "https://localhost:8080/"
        },
        "id": "K3vSMlEhcwlQ",
        "outputId": "83becf71-bb48-4151-cc20-e8374d59d0b8"
      },
      "execution_count": 35,
      "outputs": [
        {
          "output_type": "stream",
          "name": "stdout",
          "text": [
            "Mean: 3.0\n"
          ]
        }
      ]
    },
    {
      "cell_type": "code",
      "source": [
        "# Standard deviation\n",
        "std_value = np.std(data)\n",
        "print(\"Standard Deviation:\", std_value)"
      ],
      "metadata": {
        "colab": {
          "base_uri": "https://localhost:8080/"
        },
        "id": "WeG5RVoIc4M-",
        "outputId": "2623f7c0-3cda-4e14-be1d-5e1726fd0efc"
      },
      "execution_count": 36,
      "outputs": [
        {
          "output_type": "stream",
          "name": "stdout",
          "text": [
            "Standard Deviation: 1.4142135623730951\n"
          ]
        }
      ]
    },
    {
      "cell_type": "code",
      "source": [
        "# Sum\n",
        "sum_value = np.sum(data)\n",
        "print(\"Sum:\", sum_value)"
      ],
      "metadata": {
        "colab": {
          "base_uri": "https://localhost:8080/"
        },
        "id": "3scI0z9DdAVQ",
        "outputId": "0a77c4da-8645-44ad-ece6-8104c0098325"
      },
      "execution_count": 37,
      "outputs": [
        {
          "output_type": "stream",
          "name": "stdout",
          "text": [
            "Sum: 15\n"
          ]
        }
      ]
    },
    {
      "cell_type": "markdown",
      "source": [
        "# 6. Reshaping Arrays\n",
        "\n",
        "1. Create a 1D array: array = [1, 2, 3, 4, 5, 6].\n",
        "2. Reshape this array to a 2x3 array.\n",
        "3. Reshape the same array to a 3x2 array."
      ],
      "metadata": {
        "id": "OXl538jqdLF2"
      }
    },
    {
      "cell_type": "code",
      "source": [
        "import numpy as np\n",
        "# Create a 1D array\n",
        "array = np.array([1, 2, 3, 4, 5, 6])"
      ],
      "metadata": {
        "id": "1CaY00GudOC5"
      },
      "execution_count": 38,
      "outputs": []
    },
    {
      "cell_type": "code",
      "source": [
        "# Reshape to 2x3\n",
        "reshaped_array = array.reshape((2, 3))\n",
        "print(\"Reshaped Array:\\n\", reshaped_array)"
      ],
      "metadata": {
        "colab": {
          "base_uri": "https://localhost:8080/"
        },
        "id": "jwtt-eAIdW5B",
        "outputId": "60c35461-9bf1-4ab4-ad05-ecc549d5b192"
      },
      "execution_count": 39,
      "outputs": [
        {
          "output_type": "stream",
          "name": "stdout",
          "text": [
            "Reshaped Array:\n",
            " [[1 2 3]\n",
            " [4 5 6]]\n"
          ]
        }
      ]
    },
    {
      "cell_type": "code",
      "source": [
        "# Reshape to 3x2\n",
        "reshaped_array = array.reshape((3, 2))\n",
        "print(\"Reshaped Array:\\n\", reshaped_array)"
      ],
      "metadata": {
        "colab": {
          "base_uri": "https://localhost:8080/"
        },
        "id": "p_mdqDPpeJsO",
        "outputId": "1ccbe6f9-d224-4d57-acd8-4d24265fdb20"
      },
      "execution_count": 40,
      "outputs": [
        {
          "output_type": "stream",
          "name": "stdout",
          "text": [
            "Reshaped Array:\n",
            " [[1 2]\n",
            " [3 4]\n",
            " [5 6]]\n"
          ]
        }
      ]
    },
    {
      "cell_type": "markdown",
      "source": [
        "# 7. Element-wise Operations\n",
        "\n",
        "1. Create two arrays: array_a = [1, 2, 3] and array_b = [4, 5, 6].\n",
        "2. Perform element-wise addition and multiplication on these arrays."
      ],
      "metadata": {
        "id": "NHNDLMmwedet"
      }
    },
    {
      "cell_type": "code",
      "source": [
        "import numpy as np\n",
        "# Create two arrays\n",
        "array_a = np.array([1, 2, 3])\n",
        "array_b = np.array([4, 5, 6])"
      ],
      "metadata": {
        "id": "iwPp0rpWegrn"
      },
      "execution_count": 41,
      "outputs": []
    },
    {
      "cell_type": "code",
      "source": [
        "# Element-wise addition\n",
        "add_result = array_a + array_b\n",
        "print(\"Element-wise Addition:\", add_result)"
      ],
      "metadata": {
        "colab": {
          "base_uri": "https://localhost:8080/"
        },
        "id": "waaBeY2-ekaD",
        "outputId": "c5ef5048-ab39-4bec-f6b9-43aeddbf9a67"
      },
      "execution_count": 42,
      "outputs": [
        {
          "output_type": "stream",
          "name": "stdout",
          "text": [
            "Element-wise Addition: [5 7 9]\n"
          ]
        }
      ]
    },
    {
      "cell_type": "code",
      "source": [
        "# Element-wise multiplication\n",
        "\n",
        "multiply_result = array_a * array_b\n",
        "print(\"Element-wise Multiplication:\", multiply_result)"
      ],
      "metadata": {
        "colab": {
          "base_uri": "https://localhost:8080/"
        },
        "id": "6o2zOr0xeuax",
        "outputId": "fc2f72f9-5210-4a0e-fea6-0e46de25c439"
      },
      "execution_count": 43,
      "outputs": [
        {
          "output_type": "stream",
          "name": "stdout",
          "text": [
            "Element-wise Multiplication: [ 4 10 18]\n"
          ]
        }
      ]
    },
    {
      "cell_type": "markdown",
      "source": [
        "# 8. Slicing and Indexing\n",
        "\n",
        "1. Create a 2D array: array_2d = [[1, 2, 3], [4, 5, 6], [7, 8, 9]].\n",
        "2. Access the element at row 1, column 1.\n",
        "3. Access row 1.\n",
        "4. Access column 1."
      ],
      "metadata": {
        "id": "FhMvvR-be39W"
      }
    },
    {
      "cell_type": "code",
      "source": [
        "import numpy as np\n",
        "# Create a 2D array\n",
        "array_2d = np.array([[1, 2, 3], [4, 5, 6], [7, 8, 9]])"
      ],
      "metadata": {
        "id": "8WOZJwfhe6J8"
      },
      "execution_count": 44,
      "outputs": []
    },
    {
      "cell_type": "code",
      "source": [
        "# Accessing an element\n",
        "element = array_2d[1, 1]\n",
        "print(\"Element at [1, 1]:\", element)"
      ],
      "metadata": {
        "colab": {
          "base_uri": "https://localhost:8080/"
        },
        "id": "EOrdulfne9NZ",
        "outputId": "985db4a8-45a2-450a-fe7a-e8287ce868e6"
      },
      "execution_count": 45,
      "outputs": [
        {
          "output_type": "stream",
          "name": "stdout",
          "text": [
            "Element at [1, 1]: 5\n"
          ]
        }
      ]
    },
    {
      "cell_type": "code",
      "source": [
        "# Accessing a row\n",
        "row = array_2d[1, :]\n",
        "print(\"Row 1:\", row)"
      ],
      "metadata": {
        "colab": {
          "base_uri": "https://localhost:8080/"
        },
        "id": "zoiQbWz4fEa0",
        "outputId": "d57b4928-ef29-4af7-9557-b6e5cee60c0b"
      },
      "execution_count": 47,
      "outputs": [
        {
          "output_type": "stream",
          "name": "stdout",
          "text": [
            "Row 1: [4 5 6]\n"
          ]
        }
      ]
    },
    {
      "cell_type": "code",
      "source": [
        "# Accessing a column\n",
        "column = array_2d[:, 1]\n",
        "print(\"Column 1:\", column)"
      ],
      "metadata": {
        "colab": {
          "base_uri": "https://localhost:8080/"
        },
        "id": "gE1gN2eefNXa",
        "outputId": "bfe678e8-e450-43ae-9bbf-76d541413053"
      },
      "execution_count": 49,
      "outputs": [
        {
          "output_type": "stream",
          "name": "stdout",
          "text": [
            "Column 1: [2 5 8]\n"
          ]
        }
      ]
    },
    {
      "cell_type": "markdown",
      "source": [
        "# 9. Creating Random Arrays\n",
        "\n",
        "1. Create a 3x3 array with random floats.\n",
        "2. Create a 3x3 array with random integers between 0 and 10."
      ],
      "metadata": {
        "id": "WAzwVXTzfWBF"
      }
    },
    {
      "cell_type": "code",
      "source": [
        "import numpy as np\n",
        "\n",
        "# Create a random array\n",
        "random_array = np.random.rand(3, 3)\n",
        "print(\"Random Array:\\n\", random_array)"
      ],
      "metadata": {
        "colab": {
          "base_uri": "https://localhost:8080/"
        },
        "id": "djCXE3PYffdR",
        "outputId": "f8059c61-624b-4e8b-993c-964d3ac440a1"
      },
      "execution_count": 50,
      "outputs": [
        {
          "output_type": "stream",
          "name": "stdout",
          "text": [
            "Random Array:\n",
            " [[0.99987786 0.54406227 0.50745017]\n",
            " [0.90649267 0.83840032 0.87699552]\n",
            " [0.35422997 0.8316917  0.7068843 ]]\n"
          ]
        }
      ]
    },
    {
      "cell_type": "code",
      "source": [
        "# Create a random integer array\n",
        "random_int_array = np.random.randint(0, 10, (3, 3))\n",
        "print(\"Random Integer Array:\\n\", random_int_array)"
      ],
      "metadata": {
        "colab": {
          "base_uri": "https://localhost:8080/"
        },
        "id": "4eqlPr8VfnIp",
        "outputId": "8dd6bdfe-d60a-4e62-f884-cc29f96f32f1"
      },
      "execution_count": 51,
      "outputs": [
        {
          "output_type": "stream",
          "name": "stdout",
          "text": [
            "Random Integer Array:\n",
            " [[6 3 2]\n",
            " [2 1 9]\n",
            " [3 6 9]]\n"
          ]
        }
      ]
    },
    {
      "cell_type": "markdown",
      "source": [
        "# 10. Stacking and Concatenating Arrays\n",
        "\n",
        "1. Create two arrays: array_a = [1, 2, 3] and array_b = [4, 5, 6].\n",
        "2. Perform vertical stacking on these arrays.\n",
        "3. Perform horizontal stacking on these arrays."
      ],
      "metadata": {
        "id": "RoeCWWQmfwfE"
      }
    },
    {
      "cell_type": "code",
      "source": [
        "import numpy as np\n",
        "# Create two arrays\n",
        "array_a = np.array([1, 2, 3])\n",
        "array_b = np.array([4, 5, 6])"
      ],
      "metadata": {
        "id": "UrSTCISmfycG"
      },
      "execution_count": 52,
      "outputs": []
    },
    {
      "cell_type": "code",
      "source": [
        "# Vertical stack\n",
        "v_stack = np.vstack((array_a, array_b))\n",
        "print(\"Vertical Stack:\\n\", v_stack)"
      ],
      "metadata": {
        "colab": {
          "base_uri": "https://localhost:8080/"
        },
        "id": "iEGtpn0Wf1S2",
        "outputId": "79118dec-591b-46bc-b9ca-dd2fad7c6be0"
      },
      "execution_count": 53,
      "outputs": [
        {
          "output_type": "stream",
          "name": "stdout",
          "text": [
            "Vertical Stack:\n",
            " [[1 2 3]\n",
            " [4 5 6]]\n"
          ]
        }
      ]
    },
    {
      "cell_type": "code",
      "source": [
        "# Horizontal stack\n",
        "h_stack = np.hstack((array_a, array_b))\n",
        "print(\"Horizontal Stack:\", h_stack)"
      ],
      "metadata": {
        "colab": {
          "base_uri": "https://localhost:8080/"
        },
        "id": "U72LT2v4f6_U",
        "outputId": "eaa18e0c-13af-4381-eaff-16cf937e3fee"
      },
      "execution_count": 54,
      "outputs": [
        {
          "output_type": "stream",
          "name": "stdout",
          "text": [
            "Horizontal Stack: [1 2 3 4 5 6]\n"
          ]
        }
      ]
    }
  ]
}